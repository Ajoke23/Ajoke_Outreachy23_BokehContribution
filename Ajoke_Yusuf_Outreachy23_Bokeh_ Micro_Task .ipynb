{
 "cells": [
  {
   "cell_type": "markdown",
   "id": "572e23bb",
   "metadata": {},
   "source": [
    "## Ajoke Yusuf MicroTask Contribution"
   ]
  },
  {
   "cell_type": "markdown",
   "id": "d7d28782",
   "metadata": {},
   "source": [
    "### Table of Content\n",
    "- Introduction\n",
    "- Dataset Overview\n",
    "- Data Cleaning\n",
    "- Data Visualization using **Bokeh plot**\n",
    "- Interactive Bokeh plot"
   ]
  },
  {
   "cell_type": "markdown",
   "id": "73ef3970",
   "metadata": {},
   "source": [
    "### Introduction:"
   ]
  },
  {
   "cell_type": "markdown",
   "id": "9807736c",
   "metadata": {},
   "source": [
    "The main aim of this project is to carry out an exploratory data analysis with a subset of the dataset using **Bokeh plots** for visualization. In this project, the link to download the dataset was provided. The pdf containing the metadata can be found in :\n",
    " https://www.nyc.gov/assets/tlc/downloads/pdf/data_dictionary_trip_records_green.pdf"
   ]
  },
  {
   "cell_type": "code",
   "execution_count": null,
   "id": "69fe0815",
   "metadata": {},
   "outputs": [],
   "source": [
    "pip install pyarrow"
   ]
  },
  {
   "cell_type": "code",
   "execution_count": null,
   "id": "00b2d50d",
   "metadata": {},
   "outputs": [],
   "source": [
    "#Importing necessary libraries\n",
    "\n",
    "import pandas as pd \n",
    "import glob #to match file pattern of .parquet\n",
    "\n",
    "#To arrange multiple plots in a grid\n",
    "from bokeh.layouts import layout, gridplot\n",
    "\n",
    "from bokeh.models import CustomJS, ColumnDataSource, HoverTool, TapTool\n",
    "\n",
    "from bokeh.io import curdoc\n",
    "\n",
    "#To create and display a plot in the notebook\n",
    "from bokeh.plotting import figure, show\n",
    "\n",
    "#To configure the notebook to display Bokeh plots inline\n",
    "from bokeh.io import output_notebook"
   ]
  },
  {
   "cell_type": "code",
   "execution_count": null,
   "id": "575ee09f",
   "metadata": {},
   "outputs": [],
   "source": [
    "output_notebook()"
   ]
  },
  {
   "cell_type": "markdown",
   "id": "f36e740c",
   "metadata": {},
   "source": [
    "### Dataset Overview\n",
    "The dataset link was provided and downloaded from https://www.nyc.gov/site/tlc/about/tlc-trip-record-data.page. The dataset downloaded was **2022 Green Taxi Trip Record** in parquet format which span from January to November. The datset consist of 2137732 records and 23 variable in the dataframe. See the data dictionary(meta data) to understand the dataset variables"
   ]
  },
  {
   "cell_type": "code",
   "execution_count": null,
   "id": "654d70c4",
   "metadata": {},
   "outputs": [],
   "source": [
    "# Path to the directory containing the parquet files\n",
    "path = r'C:\\Users\\user\\Downloads'\n",
    "\n",
    "# Get a list of all the parquet files in the directory\n",
    "parquet_files = glob.glob(path + '/*.parquet')\n",
    "\n",
    "# Read each parquet file into a separate pandas DataFrame\n",
    "data_frames = [pd.read_parquet(file) for file in parquet_files]\n",
    "\n",
    "# Combine the separate data frames into a single data frame\n",
    "combined_df = pd.concat(data_frames)\n",
    "combined_df.head()\n"
   ]
  },
  {
   "cell_type": "code",
   "execution_count": null,
   "id": "5d74416c",
   "metadata": {},
   "outputs": [],
   "source": [
    "#Returns the number of rows and columns in the dataframe\n",
    "print(\"There are {} records in the dataframe\".format(combined_df.shape[0]))\n",
    "print(\"There are {} fields in the dataframe\".format(combined_df.shape[1]))     "
   ]
  },
  {
   "cell_type": "code",
   "execution_count": null,
   "id": "4a9161d2",
   "metadata": {},
   "outputs": [],
   "source": [
    "#summary statistics of the dataset\n",
    "combined_df.describe()"
   ]
  },
  {
   "cell_type": "markdown",
   "id": "3a7d1a0e",
   "metadata": {},
   "source": [
    "### Data Cleaning"
   ]
  },
  {
   "cell_type": "code",
   "execution_count": null,
   "id": "40f335e7",
   "metadata": {},
   "outputs": [],
   "source": [
    "#percentage of null values found in all the columns\n",
    "combined_df.isnull().sum()*100/len(combined_df)"
   ]
  },
  {
   "cell_type": "code",
   "execution_count": null,
   "id": "4d461334",
   "metadata": {},
   "outputs": [],
   "source": [
    "combined_df.info()"
   ]
  },
  {
   "cell_type": "code",
   "execution_count": null,
   "id": "58ae92b1",
   "metadata": {},
   "outputs": [],
   "source": [
    "#Dropping 'ehial_fee' column becuase it contains 100% null values\n",
    "combined_df.drop(columns=['ehail_fee','airport_fee'],inplace=True)"
   ]
  },
  {
   "cell_type": "code",
   "execution_count": null,
   "id": "6da0add6",
   "metadata": {},
   "outputs": [],
   "source": [
    "#Dropping of null values\n",
    "combined_df.dropna(subset=['store_and_fwd_flag','RatecodeID','passenger_count','payment_type','trip_type',\n",
    "                           'congestion_surcharge'],inplace=True)"
   ]
  },
  {
   "cell_type": "code",
   "execution_count": null,
   "id": "aac4000e",
   "metadata": {},
   "outputs": [],
   "source": [
    "combined_df.columns"
   ]
  },
  {
   "cell_type": "code",
   "execution_count": null,
   "id": "df15d080",
   "metadata": {},
   "outputs": [],
   "source": [
    "combined_df.info()"
   ]
  },
  {
   "cell_type": "code",
   "execution_count": null,
   "id": "6c8144f7",
   "metadata": {},
   "outputs": [],
   "source": [
    "#checking for duplicate values\n",
    "combined_df.duplicated().sum()"
   ]
  },
  {
   "cell_type": "code",
   "execution_count": null,
   "id": "1f790631",
   "metadata": {},
   "outputs": [],
   "source": [
    "combined_df['RatecodeID'].unique()"
   ]
  },
  {
   "cell_type": "code",
   "execution_count": null,
   "id": "bda22d64",
   "metadata": {},
   "outputs": [],
   "source": [
    "#A dictionary that maps the rate codes to their correspondong description from the metadata\n",
    "rate_code= {1.0: 'Standard rate', 2.0: 'JFK', 3.0: 'Newark', 4.0: 'Nassau or Westchester', \n",
    "            5.0: 'Negotiated fare', 6.0: 'Group ride'}\n",
    "\n",
    "# replace the rate codes in the dataframe with their descriptions\n",
    "combined_df['RatecodeID'] = combined_df['RatecodeID'].replace(rate_code)\n",
    "\n",
    "#Checking if the replacement has been made\n",
    "combined_df['RatecodeID']"
   ]
  },
  {
   "cell_type": "code",
   "execution_count": null,
   "id": "69508d41",
   "metadata": {},
   "outputs": [],
   "source": [
    "combined_df['payment_type'].unique()"
   ]
  },
  {
   "cell_type": "code",
   "execution_count": null,
   "id": "9379533a",
   "metadata": {},
   "outputs": [],
   "source": [
    "#create a dictinary that maps the payment type code to its correspondong description from the metadata\n",
    "payment_code ={1: 'Credit card', 2: 'Cash', 3: 'No charge', 4: 'Dispute', 5: 'Negotiated fare'}\n",
    "\n",
    "# replace the rate codes in the dataframe with their descriptions\n",
    "combined_df['payment_type'] = combined_df['payment_type'].replace(payment_code)\n",
    "\n",
    "#Checking if the replacement has been made\n",
    "combined_df['payment_type']"
   ]
  },
  {
   "cell_type": "code",
   "execution_count": null,
   "id": "b29af5db",
   "metadata": {},
   "outputs": [],
   "source": [
    "#create a dictinary that maps the trip-type to its correspondong description from the metadata\n",
    "trip_type = {1: 'Street-hail', 2: 'Discharge'}\n",
    "\n",
    "# replace the rate codes in the dataframe with their descriptions\n",
    "combined_df['trip_type'] = combined_df['trip_type'].replace(trip_type)\n",
    "\n",
    "#Checking if the replacement has been made\n",
    "combined_df['trip_type']"
   ]
  },
  {
   "cell_type": "code",
   "execution_count": null,
   "id": "35fb534f",
   "metadata": {},
   "outputs": [],
   "source": [
    "# convert the dtypes of \"lpep_pickup_datetime\" column to datetime\n",
    "combined_df['lpep_pickup_datetime']= pd.to_datetime(combined_df['lpep_pickup_datetime'])\n",
    "\n",
    "\n",
    "# extract the month, day, and time components into separate columns\n",
    "combined_df['pickup_month']= combined_df['lpep_pickup_datetime'].dt.strftime('%b')\n",
    "combined_df['pickup_day']= combined_df['lpep_pickup_datetime'].dt.strftime('%A')\n",
    "combined_df['pickup_time(hours)']= combined_df['lpep_pickup_datetime'].dt.strftime('%H')"
   ]
  },
  {
   "cell_type": "code",
   "execution_count": null,
   "id": "de39b533",
   "metadata": {},
   "outputs": [],
   "source": [
    "combined_df"
   ]
  },
  {
   "cell_type": "code",
   "execution_count": null,
   "id": "d29bba38",
   "metadata": {},
   "outputs": [],
   "source": [
    "# convert the dtypes of \"lpep_dropoff_datetime\" column to datetime\n",
    "combined_df['lpep_dropoff_datetime']= pd.to_datetime(combined_df['lpep_dropoff_datetime'])\n",
    "\n",
    "\n",
    "# extract the month, day, and time components into separate columns\n",
    "combined_df['dropoff_month']= combined_df['lpep_dropoff_datetime'].dt.strftime('%b')\n",
    "combined_df['dropoff_day']= combined_df['lpep_dropoff_datetime'].dt.strftime('%d')\n",
    "combined_df['dropoff_time']= combined_df['lpep_dropoff_datetime'].dt.strftime('%H')"
   ]
  },
  {
   "cell_type": "code",
   "execution_count": null,
   "id": "f031fea9",
   "metadata": {},
   "outputs": [],
   "source": [
    "#drop of the \"lpep_pickup_datetime\" and \"lpep_dropoff_datetime\" columns since the day,month and time has been extracted\n",
    "combined_df.drop(columns=['lpep_pickup_datetime','lpep_dropoff_datetime'], inplace=True)"
   ]
  },
  {
   "cell_type": "code",
   "execution_count": null,
   "id": "236f65f5",
   "metadata": {},
   "outputs": [],
   "source": [
    "combined_df"
   ]
  },
  {
   "cell_type": "markdown",
   "id": "d3be27d0",
   "metadata": {},
   "source": [
    "- Available theme\n",
    "caliber, dark_minimal, light_minimal, night_sky, contrast"
   ]
  },
  {
   "cell_type": "markdown",
   "id": "3d896ec9",
   "metadata": {},
   "source": [
    "### ANALYSIZING & DATA VISUALIZATION USING VARIOUS PLOT IN **BOKEH**"
   ]
  },
  {
   "cell_type": "markdown",
   "id": "f0f0eaea",
   "metadata": {},
   "source": [
    "In this section, I will be be investigating and questioning the dataset to get insight and visualize the insight with various **bokeh plot**"
   ]
  },
  {
   "cell_type": "markdown",
   "id": "6aeb084f",
   "metadata": {},
   "source": [
    "### Question 1"
   ]
  },
  {
   "cell_type": "markdown",
   "id": "90b5f73d",
   "metadata": {},
   "source": [
    "Which payment type was widely used by passengers?"
   ]
  },
  {
   "cell_type": "code",
   "execution_count": null,
   "id": "aa2347b2",
   "metadata": {},
   "outputs": [],
   "source": [
    "combined_df.groupby('payment_type')['payment_type'].count()"
   ]
  },
  {
   "cell_type": "markdown",
   "id": "246bff01",
   "metadata": {},
   "source": [
    "### Visualization: Bar plot"
   ]
  },
  {
   "cell_type": "code",
   "execution_count": null,
   "id": "deefd45d",
   "metadata": {},
   "outputs": [],
   "source": [
    "from bokeh.models import NumeralTickFormatter #to format axis\n",
    "\n",
    "#create a column data source\n",
    "source = ColumnDataSource(data=dict(payment_types=combined_df['payment_type'].unique(), \n",
    "                                     values=combined_df.groupby('payment_type')['payment_type'].count()))\n",
    "\n",
    "#create a figure object and set the background color to grey\n",
    "p = figure(x_range=source.data['payment_types'], plot_height=600, title=\"Payment Type Frequency\",\n",
    "           background_fill_color='darkgrey')\n",
    "\n",
    "#add a vbar(vertical bar) glyph\n",
    "p.vbar(x='payment_types', top='values', width=0.9, source=source,color='firebrick') \n",
    "      \n",
    "#labelling of x axis\n",
    "p.xaxis.axis_label = \"Payment Type\"\n",
    "\n",
    "#labelling of y axis\n",
    "p.yaxis.axis_label = \"Total Payment Amount\"\n",
    "p.xaxis.major_label_orientation = 0.5\n",
    "\n",
    "p.grid.visible = True\n",
    "#p.xticks_label_text_font_size ='14pt'\n",
    "\n",
    "#format the Y-axis ticks as whole number\n",
    "p.yaxis.formatter = NumeralTickFormatter(format='0,0')\n",
    "show(p)\n"
   ]
  },
  {
   "cell_type": "markdown",
   "id": "5aaa5972",
   "metadata": {},
   "source": [
    "### [Click TO View Plot]('https://github.com/Ajoke23/Ajoke_Outreachy23_BokehContribution/blob/main/Plot/Barplot.PNG')"
   ]
  },
  {
   "cell_type": "markdown",
   "id": "96feda7f",
   "metadata": {},
   "source": [
    "### Observation"
   ]
  },
  {
   "cell_type": "markdown",
   "id": "bee67890",
   "metadata": {},
   "source": [
    "-  **Credit card** is the most widely used by passenegrs for payment."
   ]
  },
  {
   "cell_type": "markdown",
   "id": "0baf6a27",
   "metadata": {},
   "source": [
    "### Question 2"
   ]
  },
  {
   "cell_type": "markdown",
   "id": "e3a64383",
   "metadata": {},
   "source": [
    " Is there any correlation between the time of pickup and total amount?"
   ]
  },
  {
   "cell_type": "markdown",
   "id": "87147e92",
   "metadata": {},
   "source": [
    "### Visualization: Scatterplot"
   ]
  },
  {
   "cell_type": "code",
   "execution_count": null,
   "id": "b2638def",
   "metadata": {},
   "outputs": [],
   "source": [
    "from bokeh.layouts import column\n",
    "from bokeh.transform import jitter\n",
    "from bokeh.plotting import figure, show\n",
    "\n",
    "# Create a ColumnDataSource object\n",
    "source = ColumnDataSource(combined_df)\n",
    "\n",
    "# Create the first figure object\n",
    "p1 = figure(title=\"Pickup time vs Total Amount\", x_axis_label=\"Pickup Time(hours)\",\n",
    "            y_axis_label=\"Total Amount\",width=700,height=400,background_fill_color='lightgrey')\n",
    "\n",
    "# create a first scatter subplot\n",
    "p1.scatter(x=\"pickup_time(hours)\", y=\"total_amount\", source=source, size=10, color='darkmagenta', alpha=0.4)\n",
    "\n",
    "#set grid line color to none\n",
    "p1.xgrid.grid_line_color = None\n",
    "\n",
    "# Create a second figure subplot\n",
    "p2 = figure(title=\"Pickup time vs Fare Amount\", x_axis_label=\"Pickup Time(Hours)\",\n",
    "            y_axis_label=\"Fare Amount\", width=700, height=400,background_fill_color='lightgrey')\n",
    "\n",
    "# Add a scatter glyph for p2\n",
    "p2.scatter(x=\"pickup_time(hours)\", y=\"fare_amount\", source=source, size=10, color='goldenrod', alpha=0.4)\n",
    "\n",
    "#set grid line color to none\n",
    "p2.xgrid.grid_line_color = None\n",
    "\n",
    "# Show the plot\n",
    "show(column(p1,p2))"
   ]
  },
  {
   "cell_type": "markdown",
   "id": "a9ec72b1",
   "metadata": {},
   "source": [
    "### [Click To View Plot]('https://github.com/Ajoke23/Ajoke_Outreachy23_BokehContribution/blob/main/Plot/Scatterplot1.png')"
   ]
  },
  {
   "cell_type": "markdown",
   "id": "7f4e087c",
   "metadata": {},
   "source": [
    "### Observation"
   ]
  },
  {
   "cell_type": "markdown",
   "id": "f795d60d",
   "metadata": {},
   "source": [
    "- The first subplot shows the relationship between pickup time (in hours) and the total premium amount paid and from the plot there exist no correlation. The second subplot shows the relationship between pickup time (in hours) and the fare amount and we can also deduce that there exist no correlation between pickup_time and fare amount\n",
    "\n",
    "- There seems to be a cluster of data points and also a few outliers in both plots, indicating some trips with unusually high total amount/fare amount paid by the passenger irrespective to their pickup time which implies that it cannot be used to optimized price\n",
    "\n",
    "- This analysis further deduced that the hours of the day in which a passenger took a trip fare is independent on the fare amount and total amount paid\n"
   ]
  },
  {
   "cell_type": "markdown",
   "id": "1e79991c",
   "metadata": {},
   "source": [
    "### Question 3"
   ]
  },
  {
   "cell_type": "markdown",
   "id": "eddb54c1",
   "metadata": {},
   "source": [
    "Could the type of RateCodeID be a dermining factor of Fare Amount?"
   ]
  },
  {
   "cell_type": "markdown",
   "id": "36de823e",
   "metadata": {},
   "source": [
    "### Visualization: Whisker plot"
   ]
  },
  {
   "cell_type": "code",
   "execution_count": null,
   "id": "8deea8f1",
   "metadata": {},
   "outputs": [],
   "source": [
    "from bokeh.models import ColumnDataSource, Whisker\n",
    "from bokeh.plotting import figure, show\n",
    "from bokeh.transform import factor_cmap, jitter\n",
    "\n",
    "classes = list(sorted(combined_df[\"RatecodeID\"].unique()))\n",
    "\n",
    "#to create figure object\n",
    "p = figure(height=400, x_range=classes, background_fill_color=\"darkgrey\",\n",
    "           title=\"Final Rate Code vs Fare Amount\")\n",
    "p.xgrid.grid_line_color = None\n",
    "\n",
    "g = combined_df.groupby(\"RatecodeID\")\n",
    "upper = g.fare_amount.quantile(0.80)\n",
    "lower = g.fare_amount.quantile(0.20)\n",
    "source = ColumnDataSource(data=dict(base=classes, upper=upper, lower=lower))\n",
    "\n",
    "error = Whisker(base=\"base\", upper=\"upper\", lower=\"lower\", source=source,\n",
    "                level=\"annotation\", line_width=0.5)\n",
    "error.upper_head.size=8\n",
    "error.lower_head.size=8\n",
    "p.add_layout(error)\n",
    "\n",
    "#add a circle glyph\n",
    "p.circle(jitter(\"RatecodeID\", 0.3, range=p.x_range), \"fare_amount\", source=combined_df,\n",
    "         alpha=0.5, size=13, line_color=\"white\",\n",
    "         color=factor_cmap(\"RatecodeID\", \"Spectral6\", classes))\n",
    "\n",
    "#to set theme color\n",
    "curdoc().theme= 'dark_minimal'\n",
    "\n",
    "\n",
    "p.xaxis.major_label_orientation = 0.5\n",
    "\n",
    "#show the plot\n",
    "show(p)"
   ]
  },
  {
   "cell_type": "markdown",
   "id": "ac48c9e5",
   "metadata": {},
   "source": [
    "### [Click To View Plot](https://github.com/Ajoke23/Ajoke_Outreachy23_BokehContribution/blob/main/Plot/WhiskerPlot.PNG)"
   ]
  },
  {
   "cell_type": "markdown",
   "id": "e8807686",
   "metadata": {},
   "source": [
    "### Observation"
   ]
  },
  {
   "cell_type": "markdown",
   "id": "7c2ec7c1",
   "metadata": {},
   "source": [
    "- The whisker plot shows the distribution of various RateCodeID categories across price of fare. The boxes represent the interquartile range (IQR), with the lower and upper whiskers.\n",
    "- Newark, on the other hand, has the lowest median fare amount and the narrowest range of fares.\n",
    "- Overall, the plot suggests that the RateCodeID category is a significant predictor of fare amount."
   ]
  },
  {
   "cell_type": "markdown",
   "id": "5981f764",
   "metadata": {},
   "source": [
    "### Question 4"
   ]
  },
  {
   "cell_type": "markdown",
   "id": "8b71b6a3",
   "metadata": {},
   "source": [
    "Which is the most populous trip type?"
   ]
  },
  {
   "cell_type": "markdown",
   "id": "3e39c798",
   "metadata": {},
   "source": [
    "### Visualization: Pie plot"
   ]
  },
  {
   "cell_type": "code",
   "execution_count": null,
   "id": "685914e8",
   "metadata": {},
   "outputs": [],
   "source": [
    "from bokeh.palettes import Category10 #select catergory10 palette\n",
    "from bokeh.plotting import figure, show\n",
    "from bokeh.transform import cumsum\n",
    "from bokeh.io import curdoc\n",
    "from math import pi\n",
    "\n",
    "\n",
    "# Create some sample data\n",
    "data = combined_df['trip_type'].value_counts()\n",
    "df = pd.DataFrame({'trip_type': data.index, 'count': data.values})\n",
    "\n",
    "# Calculate the percentage\n",
    "df['angle'] = df['count']/df['count'].sum()* 2*pi\n",
    "df['color'] = Category10[10][:len(df)]\n",
    "df['percentage'] = df['count']/df['count'].sum()*100\n",
    "\n",
    "# Create a figure object\n",
    "p = figure(title=\"Most Populoous Trip type\", toolbar_location=None, tools=\"hover\", \n",
    "           tooltips=[(\"Trip Type\",\"@trip_type\"),(\"Percentage\", \"@percentage{0.2f}%\")])\n",
    "\n",
    "# Add a wedge glyph\n",
    "p.wedge(x=0, y=1, radius=0.4, start_angle=cumsum('angle', include_zero=True), end_angle=cumsum('angle'),\n",
    "        line_color=\"white\", fill_color='color', legend_field='trip_type', source=df)\n",
    "\n",
    "\n",
    "# Set the legend location\n",
    "p.legend.location = \"top_right\"\n",
    "p.axis.visible = False\n",
    "p.grid.grid_line_color = None\n",
    "\n",
    "#to set theme color\n",
    "curdoc().theme= 'caliber'\n",
    "# Show the plot\n",
    "show(p)\n"
   ]
  },
  {
   "cell_type": "markdown",
   "id": "681f1c98",
   "metadata": {},
   "source": [
    "### [Click To View Plot](https://github.com/Ajoke23/Ajoke_Outreachy23_BokehContribution/blob/main/Plot/Pie%20Chart1.png) "
   ]
  },
  {
   "cell_type": "markdown",
   "id": "0595cec8",
   "metadata": {},
   "source": [
    "### Observation"
   ]
  },
  {
   "cell_type": "markdown",
   "id": "92ce8699",
   "metadata": {},
   "source": [
    "- From the pie chart,'street-hail' happens to be the most populous type of trip having a percentage of 95.16%"
   ]
  },
  {
   "cell_type": "markdown",
   "id": "137443ba",
   "metadata": {},
   "source": [
    "### Question 5"
   ]
  },
  {
   "cell_type": "markdown",
   "id": "6c80f972",
   "metadata": {},
   "source": [
    "What are the top 2 day with the most recorded trip?"
   ]
  },
  {
   "cell_type": "markdown",
   "id": "c38440f7",
   "metadata": {},
   "source": [
    "### Visualization: Verical Bar Plot"
   ]
  },
  {
   "cell_type": "code",
   "execution_count": null,
   "id": "ef6e4e95",
   "metadata": {},
   "outputs": [],
   "source": [
    "from bokeh.palettes import Category20\n",
    "from bokeh.io import curdoc #to apply theme\n",
    "\n",
    "# Get the data\n",
    "data = combined_df['pickup_day'].value_counts()\n",
    "\n",
    "# Create a ColumnDataSource object\n",
    "source = ColumnDataSource(data=dict(days=data.index.tolist(), counts=data.values.tolist()))\n",
    "\n",
    "# Create a figure object\n",
    "p = figure(title=\"Pickup Day Frequency\", y_range=data.index.tolist(), x_range=(0, data.max()*1.1))\n",
    "\n",
    "# Add a vbar glyph\n",
    "p.hbar(y='days', right='counts', height=0.8, color=Category20[10][4], source=source)\n",
    "\n",
    "#set theme to dark\n",
    "curdoc().theme= 'dark_minimal'\n",
    "\n",
    "# Set the axis labels\n",
    "p.yaxis.axis_label = \"Day\"\n",
    "p.xaxis.axis_label = \"Frequency\"\n",
    "\n",
    "#format the Y-axis ticks as whole number\n",
    "p.xaxis.formatter = NumeralTickFormatter(format='0,0')\n",
    "\n",
    "# Show the plot\n",
    "show(p)\n"
   ]
  },
  {
   "cell_type": "markdown",
   "id": "e38f406d",
   "metadata": {},
   "source": [
    "### [Click To View Plot](https://github.com/Ajoke23/Ajoke_Outreachy23_BokehContribution/blob/main/Plot/Vertical_Plot.PNG)"
   ]
  },
  {
   "cell_type": "markdown",
   "id": "997f357d",
   "metadata": {},
   "source": [
    "### Observation"
   ]
  },
  {
   "cell_type": "markdown",
   "id": "8b6b0deb",
   "metadata": {},
   "source": [
    "- Thursday and Friday recorded the most trips for the week which implies more passenger took taxi at both Thursday and Friday.\n",
    "- From the barchart, we could also observe that weekends(Saturday and Sunday) recorded the least trip for the week. \n",
    "- Most passengers have more outing during the weekdays than weekends"
   ]
  },
  {
   "cell_type": "markdown",
   "id": "39fb9008",
   "metadata": {},
   "source": [
    "### Question 6"
   ]
  },
  {
   "cell_type": "markdown",
   "id": "87158375",
   "metadata": {},
   "source": [
    "Which day has the highest congestion surchage?"
   ]
  },
  {
   "cell_type": "code",
   "execution_count": null,
   "id": "1dbd9923",
   "metadata": {},
   "outputs": [],
   "source": [
    "combined_df.groupby('pickup_day')[['congestion_surcharge','tolls_amount']].sum().sort_values(by='congestion_surcharge')"
   ]
  },
  {
   "cell_type": "markdown",
   "id": "240dcb08",
   "metadata": {},
   "source": [
    "### Visualization: Double Plot"
   ]
  },
  {
   "cell_type": "code",
   "execution_count": null,
   "id": "dfbfc646",
   "metadata": {},
   "outputs": [],
   "source": [
    "from bokeh.plotting import figure, show\n",
    "from bokeh.models import ColumnDataSource\n",
    "from bokeh.palettes import Category10\n",
    "from bokeh.io import curdoc\n",
    "# groupby the pickup day and sum the fare and congestion surcharge\n",
    "grouped_df = combined_df.groupby('pickup_day')[['congestion_surcharge', 'tolls_amount']].sum()\n",
    "\n",
    "# Create a ColumnDataSource object\n",
    "source = ColumnDataSource(grouped_df)\n",
    "\n",
    "\n",
    "# Create a figure object\n",
    "p = figure(title=\"Fare Amount and Congestion Surcharge by Pickup Day\", x_range=grouped_df.index.tolist(),\n",
    " \n",
    "           y_axis_label=\"Fare Amount ($)\", y_range=(0, grouped_df['congestion_surcharge'].max()*1.1))\n",
    "# Add the bar glyph for fare amount\n",
    "p.vbar(x='pickup_day', top='congestion_surcharge', source=source, width=0.7, color='darkgrey', \n",
    "       legend_label='congestion_surcharge')\n",
    "\n",
    "#p.vbar(x='pickup_day', top='tolls_amount', source=source, width=0.7, color='goldenrod')\n",
    "\n",
    "# Add the line glyph for congestion surcharge\n",
    "p.line(x='pickup_day', y='tolls_amount', source=source, color='green', line_width=3, legend_label='tolls_amount')\n",
    "\n",
    "# Set the legend location\n",
    "p.legend.location = \"top_left\"\n",
    "\n",
    "#set a theme\n",
    "curdoc().theme= 'night_sky'\n",
    "\n",
    "#format the Y-axis ticks as whole number\n",
    "p.yaxis.formatter = NumeralTickFormatter(format='0,0')\n",
    "\n",
    "# Show the plot\n",
    "show(p)\n"
   ]
  },
  {
   "cell_type": "markdown",
   "id": "db4926b1",
   "metadata": {},
   "source": [
    "### [Click To View Plot](https://github.com/Ajoke23/Ajoke_Outreachy23_BokehContribution/blob/main/Plot/DoublePlot.png)"
   ]
  },
  {
   "cell_type": "markdown",
   "id": "8ac7b92e",
   "metadata": {},
   "source": [
    "### Observation"
   ]
  },
  {
   "cell_type": "markdown",
   "id": "2fa88dd7",
   "metadata": {},
   "source": [
    "- Week days has the highest congestion surcharge and tolls amount paid.\n",
    "- There eist a direct proportionality between congestion surcharge and tolls amount which implies the higher the congestion charge the higher the tolls amount "
   ]
  },
  {
   "cell_type": "markdown",
   "id": "cfd88357",
   "metadata": {},
   "source": [
    "### Question 7"
   ]
  },
  {
   "cell_type": "markdown",
   "id": "45a07c8d",
   "metadata": {},
   "source": [
    "What pairwise relationship exist between Tolls Amount, MTA Tax and Tip Amount?"
   ]
  },
  {
   "cell_type": "markdown",
   "id": "670331ec",
   "metadata": {},
   "source": [
    "### Visualization: Subplot"
   ]
  },
  {
   "cell_type": "code",
   "execution_count": null,
   "id": "2fc81d8c",
   "metadata": {},
   "outputs": [],
   "source": [
    "from bokeh.models import ColumnDataSource\n",
    "from bokeh.plotting import figure\n",
    "from bokeh.layouts import gridplot\n",
    "\n",
    "# Create a ColumnDataSource object\n",
    "source = ColumnDataSource(combined_df)\n",
    "\n",
    "# Define the tools to include in the plot\n",
    "tools = \"box_select,lasso_select,reset,help,save\"\n",
    "\n",
    "# Define the scatterplot matrix\n",
    "s1 = figure(width=300, height=300, tools=tools, title='Tolls Amount vs MTA Tax')\n",
    "s1.circle('tolls_amount', 'mta_tax', source=source)\n",
    "\n",
    "s2 = figure(width=300, height=300, tools=tools, title='Tolls Amount vs Tip Amount')\n",
    "s2.circle('tolls_amount', 'tip_amount', source=source)\n",
    "\n",
    "s3 = figure(width=300, height=300, tools=tools, title='MTA Tax vs Tip Amount')\n",
    "s3.circle('mta_tax', 'tip_amount', source=source)\n",
    "\n",
    "# Put all the plots in a grid layout\n",
    "grid = gridplot([[s1, s2,s3]])\n",
    "\n",
    "curdoc().theme= 'contrast'\n",
    "\n",
    "# Show the plot\n",
    "show(grid)\n"
   ]
  },
  {
   "cell_type": "markdown",
   "id": "19f0c8db",
   "metadata": {},
   "source": [
    "### [Click To View Plot](https://github.com/Ajoke23/Ajoke_Outreachy23_BokehContribution/blob/main/Plot/Gridplot.PNG)"
   ]
  },
  {
   "cell_type": "markdown",
   "id": "f64e7d7b",
   "metadata": {},
   "source": [
    "### Observation"
   ]
  },
  {
   "cell_type": "markdown",
   "id": "6c040ebc",
   "metadata": {},
   "source": [
    "- There seems to be a weak positive correlation between Tolls amount and tip amount.\n",
    "- Outliers are founds in all the subplot which need to be further investigated to know if it was an error of recording or a ridiculous hike in price"
   ]
  },
  {
   "cell_type": "markdown",
   "id": "9a4f9641",
   "metadata": {},
   "source": [
    "### Bokeh Subplot"
   ]
  },
  {
   "cell_type": "code",
   "execution_count": null,
   "id": "7471fa47",
   "metadata": {},
   "outputs": [],
   "source": [
    "from bokeh.layouts import row\n",
    "from bokeh.models import NumeralTickFormatter #to format axis\n",
    "from bokeh.io import curdoc\n",
    "\n",
    "amount_spent = combined_df.groupby('passenger_count')[['tip_amount']].sum()\n",
    "\n",
    "p1 = figure(width=350, height=300, background_fill_color='black')\n",
    "p1.square(x=amount_spent.index, y=amount_spent['tip_amount'], size=13, color='firebrick', alpha=0.7)\n",
    "\n",
    "p2 = figure(width=350, height=300, background_fill_color='darkgrey')\n",
    "p2.circle(x=amount_spent.index, y=amount_spent['tip_amount'], size=13, color='goldenrod', alpha=0.6)\n",
    "\n",
    "p3 = figure(width=350, height=300, background_fill_color='darkcyan')\n",
    "p3.plus(x=amount_spent.index, y=amount_spent['tip_amount'], size=13, color='crimson', alpha=0.4)\n",
    "\n",
    "#to make the gridline visible\n",
    "p.grid.visible = True\n",
    "\n",
    "curdoc().theme= 'light_minimal'\n",
    "\n",
    "#format the Y-axis ticks as whole number\n",
    "p.yaxis.formatter = NumeralTickFormatter(format='0,0')\n",
    "\n",
    "show(row(p1,p2,p3))"
   ]
  },
  {
   "cell_type": "markdown",
   "id": "2e5ef20e",
   "metadata": {},
   "source": [
    "### [Click To View Plot](https://github.com/Ajoke23/Ajoke_Outreachy23_BokehContribution/blob/main/Plot/Subplot.PNG)"
   ]
  },
  {
   "cell_type": "markdown",
   "id": "04968489",
   "metadata": {},
   "source": [
    "### INTERACTIVE BOKEH PLOT"
   ]
  },
  {
   "cell_type": "markdown",
   "id": "0519e81f",
   "metadata": {},
   "source": [
    "### Data Table Plot"
   ]
  },
  {
   "cell_type": "code",
   "execution_count": null,
   "id": "4602cd07",
   "metadata": {},
   "outputs": [],
   "source": [
    "from bokeh.layouts import column\n",
    "from bokeh.models import (ColumnDataSource, DataTable, HoverTool, IntEditor,\n",
    "                          NumberEditor, NumberFormatter, SelectEditor,\n",
    "                          StringEditor, StringFormatter, TableColumn)\n",
    "\n",
    "#select from subset of data from index 1 to 200\n",
    "df_selected = combined_df.iloc[2:201]\n",
    "\n",
    "\n",
    "source = ColumnDataSource(df_selected)\n",
    "\n",
    "flags = sorted(df_selected[\"store_and_fwd_flag\"].unique())\n",
    "codeid = sorted(df_selected[\"RatecodeID\"].unique())\n",
    "payment = sorted(df_selected[\"payment_type\"].unique())\n",
    "#pickup_days = sorted(combined_df[\"pickup_day\"].unique())\n",
    "dropoff_months= sorted(df_selected[\"dropoff_month\"].unique())\n",
    "\n",
    "columns = [\n",
    "    TableColumn(field=\"store_and_fwd_flag\", title=\"Flag\",\n",
    "                editor=SelectEditor(options=flags),\n",
    "                formatter=StringFormatter(font_style=\"bold\")),\n",
    "    TableColumn(field=\"RatecodeID\", title=\"RateCode\",\n",
    "                editor=StringEditor(completions=codeid)),\n",
    "    TableColumn(field=\"payment_type\", title=\"Payment_Type\",\n",
    "                editor=StringEditor(completions=payment)),\n",
    "    TableColumn(field=\"dropoff_month\", title=\"Month(dropoff)\", editor=SelectEditor(options=dropoff_months)),\n",
    "    TableColumn(field=\"trip_type\", title=\"Trip_Type\",editor=IntEditor()),\n",
    "    TableColumn(field=\"pickup_time(hours)\", title=\"Hours(pickup)\", editor=IntEditor()),\n",
    "    TableColumn(field=\"PULocationID\", title=\"Location_ID\", editor=IntEditor())\n",
    "]\n",
    "data_table = DataTable(source=source, columns=columns, editable=True, width=800,\n",
    "                       index_position=-1, index_header=\"row index\", index_width=60)\n",
    "\n",
    "#create a figure object\n",
    "p = figure(width=800, height=400, tools=\"pan,wheel_zoom,xbox_select,reset,save\", active_drag=\"xbox_select\")\n",
    "\n",
    "pth = p.circle(x=\"index\", y=\"pickup_time(hours)\", fill_color=\"#396285\", size=8, alpha=0.5, source=source)\n",
    "dot = p.circle(x=\"index\", y=\"PULocationID\", fill_color=\"#CE603D\", size=8, alpha=0.5, source=source)\n",
    "\n",
    "tooltips = [\n",
    "    (\"Flag\", \"@store_and_fwd_flag\"),\n",
    "    (\"RateCode\", \"@RatecodeID\"),\n",
    "    (\"Payment_Type\", \"@payment_type\"),\n",
    "    #(\"Passenger\", \"@passenger_count\"),\n",
    "    #(\"P_Day\", \"@pickup_day\"),\n",
    "    (\"Month(dropoff)\", \"@dropoff_month\"),\n",
    "    (\"Trip_Type\", \"@trip_type\"),\n",
    "    #(\"Class\", \"@class\"),\n",
    "]\n",
    "pth_hover_tool = HoverTool(renderers=[pth], tooltips=tooltips + [(\"Pickup Hours\", \"@pickup_time(hours)\")])\n",
    "pu_hover_tool = HoverTool(renderers=[dot], tooltips=tooltips + [(\"PULocationID\", \"@PULocationID\")])\n",
    "\n",
    "p.add_tools(pth_hover_tool, pu_hover_tool)\n",
    "\n",
    "#show plot\n",
    "show(column(p, data_table))"
   ]
  },
  {
   "cell_type": "markdown",
   "id": "8af98a2a",
   "metadata": {},
   "source": [
    "### [Click To View Plot](https://github.com/Ajoke23/Ajoke_Outreachy23_BokehContribution/blob/main/Plot/Data%20Table%20Plot.PNG)"
   ]
  }
 ],
 "metadata": {
  "kernelspec": {
   "display_name": "Python 3",
   "language": "python",
   "name": "python3"
  },
  "language_info": {
   "codemirror_mode": {
    "name": "ipython",
    "version": 3
   },
   "file_extension": ".py",
   "mimetype": "text/x-python",
   "name": "python",
   "nbconvert_exporter": "python",
   "pygments_lexer": "ipython3",
   "version": "3.8.8"
  }
 },
 "nbformat": 4,
 "nbformat_minor": 5
}
